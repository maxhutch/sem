{
 "cells": [
  {
   "cell_type": "code",
   "execution_count": 1,
   "metadata": {
    "collapsed": true
   },
   "outputs": [],
   "source": [
    "%matplotlib inline\n",
    "import numpy as np\n",
    "import matplotlib.pyplot as plt\n",
    "import sem\n",
    "import scipy.linalg as la\n",
    "from math import *"
   ]
  },
  {
   "cell_type": "code",
   "execution_count": 2,
   "metadata": {
    "collapsed": true
   },
   "outputs": [],
   "source": [
    "def mesh(alpha, N):\n",
    "    return np.sin(np.linspace(-pi/2+alpha,pi/2-alpha,N))/abs(sin((pi/2-alpha)))"
   ]
  },
  {
   "cell_type": "code",
   "execution_count": 3,
   "metadata": {
    "collapsed": true
   },
   "outputs": [],
   "source": [
    "def wall_units(yl, p, Re, plot=False):\n",
    "    lstar=1/Re;\n",
    "    As, Bs, Cs, Ds, z, w = sem.semhat(p)\n",
    "    y_gll = np.zeros(0)\n",
    "    for i in range(len(yl)-1):\n",
    "        y_gll = np.append(y_gll, yl[i]+ (z+1.)/2. * (yl[i+1]-yl[i]))\n",
    "    ym_vec = (y_gll[1:] - y_gll[:-1]) / lstar\n",
    "    ym = max(ym_vec)\n",
    "    y1 = ym_vec[1]\n",
    "    y10=max(ym_vec[1:11])\n",
    "    if plot:\n",
    "        plt.plot(yl,np.ones(yl.size))\n",
    "        plt.plot(y_gll,np.ones(y_gll.size))\n",
    "    \n",
    "    z_gll = np.zeros(0)\n",
    "    zg = np.linspace(0,25,100663296/len(yl)/len(yl))\n",
    "    for i in range(len(zg)-1):\n",
    "        z_gll = np.append(z_gll, zg[i]+ (z+1.)/2. * (zg[i+1]-zg[i]))\n",
    "    zn = max(z_gll[1:]-z_gll[:-1])/lstar\n",
    "    return ym, y1, y10, zn"
   ]
  },
  {
   "cell_type": "code",
   "execution_count": 4,
   "metadata": {
    "collapsed": true
   },
   "outputs": [],
   "source": [
    "Nl=257\n",
    "alp=0.3\n",
    "poc=1"
   ]
  },
  {
   "cell_type": "code",
   "execution_count": 5,
   "metadata": {
    "collapsed": false
   },
   "outputs": [
    {
     "data": {
      "text/plain": [
       "<matplotlib.collections.PathCollection at 0x2b3dec5e2320>"
      ]
     },
     "execution_count": 5,
     "metadata": {},
     "output_type": "execute_result"
    },
    {
     "data": {
      "image/png": "[encoded data removed]",
      "text/plain": [
       "<matplotlib.figure.Figure at 0x2b3dea592c88>"
      ]
     },
     "metadata": {},
     "output_type": "display_data"
    }
   ],
   "source": [
    "yl=mesh(alp, Nl)\n",
    "xg = np.tile(yl, [Nl,1])\n",
    "yg = xg.transpose()\n",
    "\n",
    "xc=xg.flatten()\n",
    "yc=yg.flatten()\n",
    "plt.scatter(xc,yc)"
   ]
  },
  {
   "cell_type": "code",
   "execution_count": 6,
   "metadata": {
    "collapsed": false
   },
   "outputs": [
    {
     "name": "stdout",
     "output_type": "stream",
     "text": [
      "8 6.52516263909 1.31073522954 1.95926218164 10.3069214332\n",
      "9 5.6603185915 1.04175340462 1.69958187493 8.94084365954\n"
     ]
    }
   ],
   "source": [
    "Re=3000;\n",
    "N=7\n",
    "ym = 2; zm = 20\n",
    "yl = mesh(alp, Nl)\n",
    "while ym > 1 and zm > 10:\n",
    "    ym, y1, y10, zm = wall_units(yl,N,Re)\n",
    "    N = N + 1\n",
    "    print(N, ym, y1, y10, zm)"
   ]
  },
  {
   "cell_type": "code",
   "execution_count": 7,
   "metadata": {
    "collapsed": false
   },
   "outputs": [],
   "source": [
    "alphs = list(np.linspace(0,pi/2, 16, endpoint=False))\n",
    "N = 31\n",
    "Nl = 65\n",
    "yms = []; y1s = []; y10s = []; zms = []\n",
    "for alph in alphs:\n",
    "    yl=mesh(alph, Nl)\n",
    "    ym, y1, y10, zm = wall_units(yl,N,Re)\n",
    "    yms.append(ym)\n",
    "    y1s.append(y1)\n",
    "    y10s.append(y10)\n",
    "    zms.append(zm)"
   ]
  },
  {
   "cell_type": "code",
   "execution_count": 8,
   "metadata": {
    "collapsed": false
   },
   "outputs": [
    {
     "data": {
      "text/plain": [
       "<matplotlib.legend.Legend at 0x2b3dec7980b8>"
      ]
     },
     "execution_count": 8,
     "metadata": {},
     "output_type": "execute_result"
    },
    {
     "data": {
      "image/png": "[encoded data removed]",
      "text/plain": [
       "<matplotlib.figure.Figure at 0x2b3dec74f358>"
      ]
     },
     "metadata": {},
     "output_type": "display_data"
    }
   ],
   "source": [
    "plt.plot(alphs,yms, label='Ym')\n",
    "plt.plot(alphs,y1s, label='y1')\n",
    "plt.plot(alphs,y10s, label='y10')\n",
    "plt.plot(alphs,zms, label = 'Zm')\n",
    "plt.legend()"
   ]
  }
 ],
 "metadata": {
  "kernelspec": {
   "display_name": "Python 3",
   "language": "python",
   "name": "python3"
  },
  "language_info": {
   "codemirror_mode": {
    "name": "ipython",
    "version": 3
   },
   "file_extension": ".py",
   "mimetype": "text/x-python",
   "name": "python",
   "nbconvert_exporter": "python",
   "pygments_lexer": "ipython3",
   "version": "3.4.3"
  }
 },
 "nbformat": 4,
 "nbformat_minor": 0
}
