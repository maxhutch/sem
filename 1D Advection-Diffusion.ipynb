{
 "cells": [
  {
   "cell_type": "code",
   "execution_count": 1,
   "metadata": {
    "collapsed": true
   },
   "outputs": [],
   "source": [
    "%matplotlib inline\n",
    "import numpy as np\n",
    "import matplotlib.pyplot as plt\n",
    "import sem\n",
    "import scipy.linalg as la"
   ]
  },
  {
   "cell_type": "code",
   "execution_count": 2,
   "metadata": {
    "collapsed": false
   },
   "outputs": [],
   "source": [
    "N = 64\n",
    "p = N - 1\n",
    "Al, Bl, Cl, Dl, zl, wl = sem.semhat(p)\n",
    "Q = np.zeros((N, N-1))\n",
    "for i in range(N-1):\n",
    "    Q[i,i] = 1\n",
    "Q[-1,0] = 1\n",
    "Qt = Q.transpose()\n",
    "A = np.dot(Qt, np.dot(Al, Q))\n",
    "B = np.dot(Qt, np.dot(Bl, Q))\n",
    "D = np.dot(Qt, np.dot(Dl, Q))\n",
    "A = np.dot(D.transpose(), np.dot(B, D))\n",
    "C = np.dot(B, D)\n",
    "z = zl[:-1]"
   ]
  },
  {
   "cell_type": "code",
   "execution_count": 3,
   "metadata": {
    "collapsed": false
   },
   "outputs": [],
   "source": [
    "Re = 100\n",
    "visc = 2 / Re\n",
    "\n",
    "def bdf1(dt, x):\n",
    "    y = la.solve(B - dt * (C-visc*A), np.dot(B, x[:,0]))\n",
    "    #f = np.dot(A, x) #+ np.dot(Cl, x)\n",
    "    #y = x + dt * f\n",
    "    return y\n",
    "\n",
    "def bdf2(dt, x):\n",
    "    rhs = np.dot(B, 4./3.*x[:,0]- 1./3.*x[:,1])\n",
    "    scale = 2.*dt/3.\n",
    "    y = la.solve(B - scale * (C-visc*A), rhs )\n",
    "    return y\n",
    "\n",
    "def bdf3(dt, x):\n",
    "    rhs = np.dot(B, 18./11.*x[:,0]- 9./11.*x[:,1] + 2./11.*x[:,2])\n",
    "    scale = 6.*dt/11.\n",
    "    y = la.solve(B - scale * (C-visc*A), rhs )\n",
    "    return y\n",
    "\n",
    "def bdf4(dt, x):\n",
    "    rhs = np.dot(B, 48./25.*x[:,0]- 36./25.*x[:,1] + 16./25.*x[:,2] - 3./25. * x[:,3])\n",
    "    scale = 12.*dt/25.\n",
    "    y = la.solve(B - scale * (C-visc*A), rhs )\n",
    "    return y\n",
    "\n",
    "def bdf5(dt, x):\n",
    "    rhs = np.dot(B, 300./137.*x[:,0]- 300./137.*x[:,1] + 200./137.*x[:,2] - 75./137. * x[:,3] + 12./137. * x[:,4])\n",
    "    scale = 60.*dt/137.\n",
    "    y = la.solve(B - scale * (C-visc*A), rhs )\n",
    "    return y\n",
    "\n",
    "def bdf2opt(dt, x):\n",
    "    beta = 0.48\n",
    "    rhs_2 = 4./3.*x[:,0]- 1./3.*x[:,1]\n",
    "    rhs_3 = 18./11.*x[:,0]- 9./11.*x[:,1] + 2./11.*x[:,2]\n",
    "    rhs = np.dot(B, beta*rhs_3 + (1-beta)*rhs_2)\n",
    "    scale = beta * 6.*dt/11. + (1-beta) * 2.*dt/3.\n",
    "    y = la.solve(B - scale * (C-visc*A), rhs )\n",
    "    return y"
   ]
  },
  {
   "cell_type": "code",
   "execution_count": 4,
   "metadata": {
    "collapsed": true
   },
   "outputs": [],
   "source": [
    "def simulate(IC, Cycles, dt, advance):\n",
    "    NT = int(Cycles * 2 / dt)\n",
    "    \n",
    "    dat = np.zeros((IC.size, 5))\n",
    "    dat[:,0] = IC\n",
    "    \n",
    "    adv = bdf1(dt, dat)\n",
    "    dat = np.roll(dat, 1, 1)\n",
    "    dat[:,0] = adv\n",
    "    \n",
    "    adv = bdf2(dt, dat)\n",
    "    dat = np.roll(dat, 1, 1)\n",
    "    dat[:,0] = adv\n",
    "\n",
    "    for i in range(NT-2):\n",
    "        adv = advance(dt, dat)\n",
    "        dat = np.roll(dat, 1, 1)\n",
    "        dat[:,0] = adv\n",
    "        \n",
    "    return adv\n",
    "\n",
    "\n",
    "\n",
    "def calculate_error(IC, ref, Cycles, dt, advance):\n",
    "    out = simulate(IC, Cycles, dt, advance)\n",
    "        \n",
    "    #err = np.exp(-np.square(z)/(4*visc*(2*Num + delta/(4*visc)) )) - bar\n",
    "    err = ref - out\n",
    "    norm = np.sqrt(np.dot(err.transpose(), np.dot(B, err)))\n",
    "    return norm"
   ]
  },
  {
   "cell_type": "code",
   "execution_count": 5,
   "metadata": {
    "collapsed": false,
    "scrolled": true
   },
   "outputs": [
    {
     "data": {
      "text/plain": [
       "[<matplotlib.lines.Line2D at 0x2b8c3cff85f8>]"
      ]
     },
     "execution_count": 5,
     "metadata": {},
     "output_type": "execute_result"
    },
    {
     "data": {
      "image/png": "[encoded data removed]",
      "text/plain": [
       "<matplotlib.figure.Figure at 0x2b8c3afbdc88>"
      ]
     },
     "metadata": {},
     "output_type": "display_data"
    }
   ],
   "source": [
    "delta = .1\n",
    "IC = np.exp(-np.square(z)/delta)\n",
    "plt.plot(z, IC)"
   ]
  },
  {
   "cell_type": "code",
   "execution_count": 6,
   "metadata": {
    "collapsed": false
   },
   "outputs": [
    {
     "name": "stderr",
     "output_type": "stream",
     "text": [
      "/home/maxhutch/anaconda3/lib/python3.4/site-packages/ipykernel/__main__.py:20: RuntimeWarning: divide by zero encountered in log2\n"
     ]
    },
    {
     "data": {
      "image/png": "[encoded data removed]",
      "text/plain": [
       "<matplotlib.figure.Figure at 0x2b8c3d05b898>"
      ]
     },
     "metadata": {},
     "output_type": "display_data"
    }
   ],
   "source": [
    "Cycles = 1\n",
    "Re = 100\n",
    "visc = 2 / Re\n",
    "\n",
    "ref = simulate(IC, Cycles, 2.**(-12), bdf2)\n",
    "\n",
    "nsamp = 14\n",
    "dts = np.power(2., np.arange(0, -nsamp, -1))\n",
    "errs_2 = np.zeros(nsamp)\n",
    "errs_2o = np.zeros(nsamp)\n",
    "errs_3 = np.zeros(nsamp)\n",
    "errs_4 = np.zeros(nsamp)\n",
    "errs_5 = np.zeros(nsamp)\n",
    "for i in range(nsamp):\n",
    "    errs_2[i]  = calculate_error(IC, ref, Cycles, dts[i], bdf2)\n",
    "    errs_2o[i] = calculate_error(IC, ref, Cycles, dts[i], bdf2opt)\n",
    "    errs_3[i]  = calculate_error(IC, ref, Cycles, dts[i], bdf3)\n",
    "    errs_4[i]  = calculate_error(IC, ref, Cycles, dts[i], bdf4)\n",
    "    errs_5[i]  = calculate_error(IC, ref, Cycles, dts[i], bdf5)\n",
    "plt.plot(-np.log2(dts), np.log2(errs_2))\n",
    "plt.plot(-np.log2(dts), np.log2(errs_3))\n",
    "plt.plot(-np.log2(dts), np.log2(errs_4))\n",
    "plt.plot(-np.log2(dts), np.log2(errs_2o))\n",
    "plt.plot(-np.log2(dts), np.log2(errs_5))\n",
    "plt.grid(True)"
   ]
  },
  {
   "cell_type": "code",
   "execution_count": 7,
   "metadata": {
    "collapsed": false
   },
   "outputs": [
    {
     "data": {
      "text/plain": [
       "<matplotlib.collections.PathCollection at 0x2b8c3e469358>"
      ]
     },
     "execution_count": 7,
     "metadata": {},
     "output_type": "execute_result"
    },
    {
     "data": {
      "image/png": "[encoded data removed]",
      "text/plain": [
       "<matplotlib.figure.Figure at 0x2b8c3cfef0b8>"
      ]
     },
     "metadata": {},
     "output_type": "display_data"
    }
   ],
   "source": [
    "ev = la.eigvals(C-visc*A)\n",
    "plt.scatter(np.real(ev), np.imag(ev))"
   ]
  }
 ],
 "metadata": {
  "kernelspec": {
   "display_name": "Python 3",
   "language": "python",
   "name": "python3"
  },
  "language_info": {
   "codemirror_mode": {
    "name": "ipython",
    "version": 3
   },
   "file_extension": ".py",
   "mimetype": "text/x-python",
   "name": "python",
   "nbconvert_exporter": "python",
   "pygments_lexer": "ipython3",
   "version": "3.4.3"
  }
 },
 "nbformat": 4,
 "nbformat_minor": 0
}
