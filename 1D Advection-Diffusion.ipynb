{
 "cells": [
  {
   "cell_type": "code",
   "execution_count": 1,
   "metadata": {
    "collapsed": true
   },
   "outputs": [],
   "source": [
    "%matplotlib inline\n",
    "import numpy as np\n",
    "import matplotlib.pyplot as plt\n",
    "import sem\n",
    "import scipy.linalg as la"
   ]
  },
  {
   "cell_type": "code",
   "execution_count": 2,
   "metadata": {
    "collapsed": false
   },
   "outputs": [],
   "source": [
    "N = 32\n",
    "p = N - 1\n",
    "Al, Bl, Cl, Dl, zl, wl = sem.semhat(p)\n",
    "Q = np.zeros((N, N-1))\n",
    "for i in range(N-1):\n",
    "    Q[i,i] = 1\n",
    "Q[-1,0] = 1\n",
    "Qt = Q.transpose()\n",
    "A = np.dot(Qt, np.dot(Al, Q))\n",
    "B = np.dot(Qt, np.dot(Bl, Q))\n",
    "D = np.dot(Qt, np.dot(Dl, Q))\n",
    "A = np.dot(D.transpose(), np.dot(B, D))\n",
    "C = np.dot(B, D)\n",
    "z = zl[:-1]"
   ]
  },
  {
   "cell_type": "code",
   "execution_count": 3,
   "metadata": {
    "collapsed": false
   },
   "outputs": [],
   "source": [
    "Re = 100\n",
    "visc = 2 / Re\n",
    "\n",
    "def bdf1(dt, x):\n",
    "    y = la.solve(B - dt * (C-visc*A), np.dot(B, x[:,0]))\n",
    "    #f = np.dot(A, x) #+ np.dot(Cl, x)\n",
    "    #y = x + dt * f\n",
    "    return y\n",
    "\n",
    "def bdf2(dt, x):\n",
    "    rhs = np.dot(B, 4./3.*x[:,0]- 1./3.*x[:,1])\n",
    "    scale = 2.*dt/3.\n",
    "    y = la.solve(B - scale * (C-visc*A), rhs )\n",
    "    return y\n",
    "\n",
    "def bdf3(dt, x):\n",
    "    rhs = np.dot(B, 18./11.*x[:,0]- 9./11.*x[:,1] + 2./11.*x[:,2])\n",
    "    scale = 6.*dt/11.\n",
    "    y = la.solve(B - scale * (C-visc*A), rhs )\n",
    "    return y\n",
    "\n",
    "def bdf4(dt, x):\n",
    "    rhs = np.dot(B, 48./25.*x[:,0]- 36./25.*x[:,1] + 16./25.*x[:,2] - 3./25. * x[:,3])\n",
    "    scale = 12.*dt/25.\n",
    "    y = la.solve(B - scale * (C-visc*A), rhs )\n",
    "    return y\n",
    "\n",
    "def bdf5(dt, x):\n",
    "    rhs = np.dot(B, 300./137.*x[:,0]- 300./137.*x[:,1] + 200./137.*x[:,2] - 75./137. * x[:,3] + 12./137. * x[:,4])\n",
    "    scale = 60.*dt/137.\n",
    "    y = la.solve(B - scale * (C-visc*A), rhs )\n",
    "    return y\n",
    "\n",
    "def bdf2opt(dt, x):\n",
    "    beta = 0.48\n",
    "    rhs_2 = 4./3.*x[:,0]- 1./3.*x[:,1]\n",
    "    rhs_3 = 18./11.*x[:,0]- 9./11.*x[:,1] + 2./11.*x[:,2]\n",
    "    rhs = np.dot(B, beta*rhs_3 + (1-beta)*rhs_2)\n",
    "    scale = beta * 6.*dt/11. + (1-beta) * 2.*dt/3.\n",
    "    y = la.solve(B - scale * (C-visc*A), rhs )\n",
    "    return y"
   ]
  },
  {
   "cell_type": "code",
   "execution_count": 4,
   "metadata": {
    "collapsed": true
   },
   "outputs": [],
   "source": [
    "def simulate(IC, Cycles, dt, advance):\n",
    "    NT = int(Cycles * 2 / dt)\n",
    "    \n",
    "    dat = np.zeros((IC.size, 5))\n",
    "    dat[:,0] = IC\n",
    "    \n",
    "    adv = bdf1(dt, dat)\n",
    "    dat = np.roll(dat, 1, 1)\n",
    "    dat[:,0] = adv\n",
    "    \n",
    "    adv = bdf2(dt, dat)\n",
    "    dat = np.roll(dat, 1, 1)\n",
    "    dat[:,0] = adv\n",
    "\n",
    "    for i in range(NT-2):\n",
    "        adv = advance(dt, dat)\n",
    "        dat = np.roll(dat, 1, 1)\n",
    "        dat[:,0] = adv\n",
    "        \n",
    "    return adv\n",
    "\n",
    "\n",
    "\n",
    "def calculate_error(IC, ref, Cycles, dt, advance):\n",
    "    out = simulate(IC, Cycles, dt, advance)\n",
    "        \n",
    "    #err = np.exp(-np.square(z)/(4*visc*(2*Num + delta/(4*visc)) )) - bar\n",
    "    err = ref - out\n",
    "    norm = np.sqrt(np.dot(err.transpose(), np.dot(B, err)))\n",
    "    return norm"
   ]
  },
  {
   "cell_type": "code",
   "execution_count": 5,
   "metadata": {
    "collapsed": false,
    "scrolled": true
   },
   "outputs": [
    {
     "data": {
      "text/plain": [
       "[<matplotlib.lines.Line2D at 0x2b61435fd780>]"
      ]
     },
     "execution_count": 5,
     "metadata": {},
     "output_type": "execute_result"
    },
    {
     "data": {
      "image/png": "[encoded data removed]",
      "text/plain": [
       "<matplotlib.figure.Figure at 0x2b61415b4908>"
      ]
     },
     "metadata": {},
     "output_type": "display_data"
    }
   ],
   "source": [
    "delta = .1\n",
    "IC = np.exp(-np.square(z)/delta)\n",
    "plt.plot(z, IC)"
   ]
  },
  {
   "cell_type": "code",
   "execution_count": 6,
   "metadata": {
    "collapsed": false
   },
   "outputs": [],
   "source": [
    "Cycles = 16\n",
    "Re = 256\n",
    "visc = 2 / Re\n",
    "\n",
    "nsamp = 10\n",
    "\n",
    "ref = simulate(IC, Cycles, 2.**(-(nsamp + 2)), bdf2)\n",
    "\n",
    "\n",
    "dts = np.power(2., np.arange(0, -nsamp, -1))\n",
    "errs_2 = np.zeros(nsamp)\n",
    "errs_2o = np.zeros(nsamp)\n",
    "errs_3 = np.zeros(nsamp)\n",
    "errs_4 = np.zeros(nsamp)\n",
    "errs_5 = np.zeros(nsamp)\n",
    "for i in range(nsamp):\n",
    "    errs_2[i]  = calculate_error(IC, ref, Cycles, dts[i], bdf2)\n",
    "    errs_2o[i] = calculate_error(IC, ref, Cycles, dts[i], bdf2opt)\n",
    "    errs_3[i]  = calculate_error(IC, ref, Cycles, dts[i], bdf3)\n",
    "    errs_4[i]  = calculate_error(IC, ref, Cycles, dts[i], bdf4)\n",
    "    errs_5[i]  = calculate_error(IC, ref, Cycles, dts[i], bdf5)\n"
   ]
  },
  {
   "cell_type": "code",
   "execution_count": 7,
   "metadata": {
    "collapsed": false
   },
   "outputs": [
    {
     "data": {
      "image/png": "[encoded data removed]",
      "text/plain": [
       "<matplotlib.figure.Figure at 0x2b614364cba8>"
      ]
     },
     "metadata": {},
     "output_type": "display_data"
    }
   ],
   "source": [
    "plt.plot(-np.log2(dts), np.log2(errs_2), label=\"BDF2\")\n",
    "plt.plot(-np.log2(dts), np.log2(errs_3), label=\"BDF3\")\n",
    "plt.plot(-np.log2(dts), np.log2(errs_4), label=\"BDF4\")\n",
    "plt.plot(-np.log2(dts), np.log2(errs_2o),label=\"BDF2OPT\")\n",
    "plt.plot(-np.log2(dts), np.log2(errs_5), label=\"BDF5\")\n",
    "plt.grid(True);\n",
    "plt.ylim(ymax=2., ymin=-32);\n",
    "plt.legend(loc=3);"
   ]
  },
  {
   "cell_type": "code",
   "execution_count": 8,
   "metadata": {
    "collapsed": true
   },
   "outputs": [],
   "source": [
    "# from https://commons.wikimedia.org/wiki/File:Stability_region_for_BDF1.svg\n",
    "BFDcoeffs = { 1: {'alpha': [1, -1], 'beta': 1},\n",
    "              2: { 'alpha': [3, -4, 1], 'beta': 2 },\n",
    "              3: { 'alpha': [11, -18, 9, -2], 'beta': 6 },\n",
    "              4: { 'alpha': [25, -48, 36, -16, 3], 'beta': 12 },\n",
    "              5: { 'alpha': [137, -300, 300, -200, 75, -12], 'beta': 60 },\n",
    "              6: { 'alpha': [147, -360, 450, -400, 225, -72], 'beta': 60 } }\n",
    "\n",
    "# Returns > 1 if argument is not in region of absolute stability\n",
    "def stabilityFunction(hTimesLambda, s):\n",
    "    stabPolyCoeffs = list(BFDcoeffs[s]['alpha'])\n",
    "    stabPolyCoeffs[0] -= hTimesLambda * BFDcoeffs[s]['beta']\n",
    "    return max(abs(np.roots(stabPolyCoeffs)))"
   ]
  },
  {
   "cell_type": "code",
   "execution_count": 9,
   "metadata": {
    "collapsed": true
   },
   "outputs": [],
   "source": [
    "Re = 256\n",
    "visc = 2 / Re\n",
    "dt = 1./4.\n",
    "s = 3"
   ]
  },
  {
   "cell_type": "code",
   "execution_count": 10,
   "metadata": {
    "collapsed": false
   },
   "outputs": [
    {
     "data": {
      "text/plain": [
       "[<matplotlib.lines.Line2D at 0x2b6144a9bcf8>]"
      ]
     },
     "execution_count": 10,
     "metadata": {},
     "output_type": "execute_result"
    },
    {
     "data": {
      "image/png": "[encoded data removed]",
      "text/plain": [
       "<matplotlib.figure.Figure at 0x2b614364c358>"
      ]
     },
     "metadata": {},
     "output_type": "display_data"
    }
   ],
   "source": [
    "plt.plot(z, IC)\n",
    "plt.plot(z, ref)\n",
    "plt.plot(z, simulate(IC, Cycles, dt, bdf3))"
   ]
  },
  {
   "cell_type": "code",
   "execution_count": 11,
   "metadata": {
    "collapsed": false
   },
   "outputs": [],
   "source": [
    "ev = la.eigvals(dt*(C-visc*A), B)\n",
    "\n",
    "x = np.linspace(np.min(np.real(ev)),0, num=200)\n",
    "y = np.linspace(0,np.max(np.imag(ev)), num=200)\n",
    "[X,Y] = np.meshgrid(x,y)\n",
    "Z = np.zeros(X.shape)\n",
    "for m in range(X.shape[0]):\n",
    "    for n in range(X.shape[1]):\n",
    "        Z[m,n] = stabilityFunction(X[m,n] + 1j * Y[m,n], s)\n",
    "\n",
    "unstable_ev = []\n",
    "for m in range(ev.shape[0]):\n",
    "    foo = stabilityFunction(ev[m], s)\n",
    "    if foo > 1.0:\n",
    "        unstable_ev.append(ev[m])\n",
    "unstable = np.array(unstable_ev)"
   ]
  },
  {
   "cell_type": "code",
   "execution_count": 12,
   "metadata": {
    "collapsed": false
   },
   "outputs": [
    {
     "data": {
      "text/plain": [
       "(-22.00550126995396, 22.00550126995396)"
      ]
     },
     "execution_count": 12,
     "metadata": {},
     "output_type": "execute_result"
    },
    {
     "data": {
      "image/png": "[encoded data removed]",
      "text/plain": [
       "<matplotlib.figure.Figure at 0x2b6144a34d30>"
      ]
     },
     "metadata": {},
     "output_type": "display_data"
    }
   ],
   "source": [
    "plt.figure(figsize=(10, 10))\n",
    "plt.contour(X, Y, Z, [1], colors='k')\n",
    "plt.contourf(X, Y, Z, [0,1], colors=[[1, 0.5, 0.8]])\n",
    "\n",
    "plt.scatter(np.real(ev), np.imag(ev))\n",
    "plt.scatter(np.real(unstable), np.imag(unstable), color='r')\n",
    "\n",
    "plt.ylim(ymin=np.min(np.imag(ev))*1.1, ymax=np.max(np.imag(ev))*1.1)"
   ]
  }
 ],
 "metadata": {
  "kernelspec": {
   "display_name": "Python 3",
   "language": "python",
   "name": "python3"
  },
  "language_info": {
   "codemirror_mode": {
    "name": "ipython",
    "version": 3
   },
   "file_extension": ".py",
   "mimetype": "text/x-python",
   "name": "python",
   "nbconvert_exporter": "python",
   "pygments_lexer": "ipython3",
   "version": "3.4.3"
  }
 },
 "nbformat": 4,
 "nbformat_minor": 0
}
