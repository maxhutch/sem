{
 "cells": [
  {
   "cell_type": "markdown",
   "metadata": {},
   "source": [
    "# Analysis of mixed BDF/EX time integration"
   ]
  },
  {
   "cell_type": "code",
   "execution_count": null,
   "metadata": {
    "collapsed": false
   },
   "outputs": [],
   "source": [
    "%matplotlib inline\n",
    "import numpy as np\n",
    "import matplotlib.pyplot as plt\n",
    "from ipywidgets.widgets import interact\n",
    "from scipy.optimize import minimize\n",
    "from scipy.optimize import basinhopping"
   ]
  },
  {
   "cell_type": "markdown",
   "metadata": {},
   "source": [
    "## Introduction"
   ]
  },
  {
   "cell_type": "markdown",
   "metadata": {},
   "source": [
    "Consider the PDE:\n",
    "$$ \\frac{d \\phi}{d t} = L(\\phi) $$\n",
    "where $L$ is a linear operator.\n",
    "First, we discretize the LHS with a backwards difference formula (BDF):\n",
    "$$ \\sum \\beta_i \\phi^{n-i} = L(\\phi^n) $$\n",
    "where $\\beta$ are the BDF coefficients.\n",
    "Next, we discretize the RHS with explicit extrapolation (EX), likely motivated by discrete versions of $L$ having a high condition number:\n",
    "\\begin{equation}\n",
    "\\sum_{i=0} \\beta_i \\phi^{n-i} = \\sum_{i=1} \\chi_i L \\phi^{n-i}\n",
    "\\end{equation}\n",
    "where $\\chi$ are the extrapolation coefficients.\n",
    "\n",
    "The standard coefficients, those which achieve maximal convergence order, are found below."
   ]
  },
  {
   "cell_type": "code",
   "execution_count": null,
   "metadata": {
    "collapsed": false
   },
   "outputs": [],
   "source": [
    "bdf1 = np.array([  1., -  1.,   0.,    0.,   0.,   0.,  0.])/ 1.\n",
    "bdf2 = np.array([  3., -  4.,   1.,    0.,   0.,   0.,  0.])/ 2.\n",
    "bdf3 = np.array([ 11., - 18.,   9., -  2.,   0.,   0.,  0.])/ 6.\n",
    "bdf4 = np.array([ 25., - 48.,  36., - 16.,   3.,   0.,  0.])/12.\n",
    "bdf5 = np.array([137., -200., 300., -200.,  75., -12.,  0.])/60.\n",
    "bdf6 = np.array([147., -360., 450., -400., 225., -72., 10.])/60.\n",
    "ex1  = np.array([0., 1.,   0.,  0.,   0., 0.,  0.])\n",
    "ex2  = np.array([0., 2., - 1.,  0.,   0., 0.,  0.])\n",
    "ex3  = np.array([0., 3., - 3.,  1.,   0., 0.,  0.])\n",
    "ex4  = np.array([0., 4., - 6.,  4., - 1., 0.,  0.])\n",
    "ex5  = np.array([0., 5., -10., 10., - 5., 1.,  0.])\n",
    "ex6  = np.array([0., 6., -15., 20., -15., 6., -1.])"
   ]
  },
  {
   "cell_type": "markdown",
   "metadata": {},
   "source": [
    "To evaluate the stability, we consider model solutions with $L \\tilde \\phi^i = \\lambda_x \\phi^i$ and $\\phi^{i+1} = \\lambda_t \\phi^i$.\n",
    "The discrete equation becomes:\n",
    "\\begin{equation}\n",
    "\\sum_{i=0} \\beta_i \\lambda_t^{-i} = \\lambda_x \\sum_{i=1} \\chi_i \\lambda_t^{-i}\n",
    "\\end{equation}\n",
    "Which can easily be solved for $\\lambda_x$:\n",
    "\\begin{equation}\n",
    "\\lambda_x = \\frac{\\sum_{i=0} \\beta_i \\lambda_t^{-i}}{\\sum_{i=1} \\chi_i \\lambda_t^{-i}}\n",
    "\\end{equation}\n",
    "The method is stable iff $\\left| \\lambda_t \\right| \\le 1$, so the stability region of $\\lambda_x$ is traced by solving the above for $\\lambda_t = \\left\\{e^{i \\theta} : \\theta \\in [0,2\\pi)\\right\\}$.\n",
    "\n",
    "BDF/EX schemes are frequently used to advance the convection operator, which can be formulated to be skew-symmetric with purely imaginary eigenvalues.  In this context, the stability constraint is given by the first crossing of the imaginary axis.\n",
    "\n",
    "The code-block below traces the stability region and returns the location of the first crossing of the imaginary axis."
   ]
  },
  {
   "cell_type": "code",
   "execution_count": null,
   "metadata": {
    "collapsed": false
   },
   "outputs": [],
   "source": [
    "theta = np.linspace(0, 2*np.pi, endpoint=False, num=512)\n",
    "E = np.zeros((theta.shape[0], 7), dtype=complex)\n",
    "i = complex(0., 1.)\n",
    "E[:,0] = 1. \n",
    "E[:,1] = np.exp(-i*theta)\n",
    "E[:,2] = np.exp(-2*i*theta)\n",
    "E[:,3] = np.exp(-3.*i*theta)\n",
    "E[:,4] = np.exp(-4.*i*theta)\n",
    "E[:,5] = np.exp(-5.*i*theta)\n",
    "E[:,6] = np.exp(-6.*i*theta)\n",
    "\n",
    "def stab_region(time, space, num=512, plot=True, label=\"\"):    \n",
    "    sol = np.dot(E, time) / np.dot(E, space)\n",
    "    if plot:\n",
    "        plt.plot(np.real(sol), np.imag(sol), label=label)\n",
    "        plt.grid(True)\n",
    "        if label is not None:\n",
    "            plt.legend()\n",
    "    for i in range(1, len(theta)):\n",
    "        if np.real(sol[i]) < 0.0:\n",
    "            return np.imag(sol[i-1])\n",
    "    return 0."
   ]
  },
  {
   "cell_type": "markdown",
   "metadata": {},
   "source": [
    "For example, the stability regions of BDF2/EX2 and BDF3/EX3 are below:"
   ]
  },
  {
   "cell_type": "code",
   "execution_count": null,
   "metadata": {
    "collapsed": false
   },
   "outputs": [],
   "source": [
    "print(\"The maximum convection eigenvalue for BDF2/EX3 is {}\".format(\n",
    "        stab_region(bdf1, ex3, label=\"BDF2/EX2\")))\n",
    "print(\"The maximum convection eigenvalue for BDF3/EX3 is {}\".format(\n",
    "        stab_region(bdf3, ex3, label=\"BDF3/EX3\")))\n",
    "print(\"The maximum convection eigenvalue for BDF4/EX4 is {}\".format(\n",
    "        stab_region(bdf4, ex4, label=\"BDF4/EX4\")))"
   ]
  },
  {
   "cell_type": "markdown",
   "metadata": {},
   "source": [
    "From this, it is clear to see that BDF2/EX2 is not suitable for the convection operator but BDF3/EX3 is.  \n",
    "Interestingly, BDF2/EX3 is stable, so this is the 2nd order scheme implemented in codes like Nek5000."
   ]
  },
  {
   "cell_type": "code",
   "execution_count": null,
   "metadata": {
    "collapsed": false
   },
   "outputs": [],
   "source": [
    "print(\"The maximum convection eigenvalue for BDF2/EX2 is {}\".format(\n",
    "        stab_region(bdf2, 2./3.*ex3+1./3.*ex2, label=\"BDF2/EX2\")))"
   ]
  },
  {
   "cell_type": "markdown",
   "metadata": {},
   "source": [
    "## Mixing BDF3/EX3 and BDF2/EX2"
   ]
  },
  {
   "cell_type": "markdown",
   "metadata": {},
   "source": [
    "Following the method of Vatsa et al. for BDF2OPT, we can mix the coefficients of the second and third order schemes to produce 2nd order schemes with different stability regions and leading order error coefficients.\n",
    "In this case, we have two sets of coefficients that can be mixed separately, so we need two mixing parameters: let $\\alpha$ mix the extrapolation coefficients and $\\beta$ mix the BDF coefficients."
   ]
  },
  {
   "cell_type": "code",
   "execution_count": null,
   "metadata": {
    "collapsed": false
   },
   "outputs": [],
   "source": [
    "def mix_bdfex_23(alpha, beta, plot=False):\n",
    "    res = stab_region((1.-beta)*bdf2+beta*bdf3,\n",
    "                      (1.-alpha)*ex2+alpha*ex3,\n",
    "                     plot=plot);\n",
    "    if plot:\n",
    "        print(\"The eigenvalue for BDF/EX-2,3({},{}) is {}\".format(alpha, beta, res))\n",
    "    return res"
   ]
  },
  {
   "cell_type": "code",
   "execution_count": null,
   "metadata": {
    "collapsed": false
   },
   "outputs": [],
   "source": [
    "def mix_bdfex_2all(alpha, beta, plot=False):\n",
    "    res = stab_region(bdf2,\n",
    "                      (1.-alpha-beta)*ex2+alpha*ex3+beta*ex4,\n",
    "                     plot=plot);\n",
    "    if plot:\n",
    "        print(\"The eigenvalue for BDF/EX-2,3({},{}) is {}\".format(alpha, beta, res))\n",
    "    return res"
   ]
  },
  {
   "cell_type": "code",
   "execution_count": null,
   "metadata": {
    "collapsed": false
   },
   "outputs": [],
   "source": [
    "interact(mix_bdfex_23, alpha=.667, beta=.48, plot=True);"
   ]
  },
  {
   "cell_type": "code",
   "execution_count": null,
   "metadata": {
    "collapsed": false
   },
   "outputs": [],
   "source": [
    "interact(mix_bdfex_2all, alpha=.667, beta=.1, plot=True);"
   ]
  },
  {
   "cell_type": "markdown",
   "metadata": {},
   "source": [
    "We can maximize the stability constraint.  The constraint $\\alpha \\ge 0$ must be added, because $\\alpha < 0$ consistently results in instability (I don't know why). "
   ]
  },
  {
   "cell_type": "code",
   "execution_count": null,
   "metadata": {
    "collapsed": false
   },
   "outputs": [],
   "source": [
    "def wrap(x):\n",
    "    return -mix_bdfex_23(x[0], x[1])\n",
    "def accept(f_new, x_new, f_old, x_old):\n",
    "    if x_new[0] < 0:\n",
    "        return False\n",
    "#    if x_new[1] < 0:\n",
    "#        return False\n",
    "    return True\n",
    "res = basinhopping(wrap, \n",
    "                   [1.0, 1.0], \n",
    "                   accept_test=accept,\n",
    "                   minimizer_kwargs={'method': 'SLSQP', 'bounds': [(0, None), (None, None)]}, \n",
    "                   niter=1000, \n",
    "                   niter_success=500, \n",
    "                   T=0.01)\n",
    "mix_bdfex_23(res.x[0], res.x[1], plot=True);"
   ]
  },
  {
   "cell_type": "code",
   "execution_count": null,
   "metadata": {
    "collapsed": false
   },
   "outputs": [],
   "source": [
    "plt.figure(figsize=(15,15))\n",
    "mix_bdfex_23(0.00513949945148418,-1.490579000429718, plot=True);"
   ]
  },
  {
   "cell_type": "markdown",
   "metadata": {},
   "source": [
    "And plot the stability constraint in the neighborhood of the minimum:"
   ]
  },
  {
   "cell_type": "code",
   "execution_count": null,
   "metadata": {
    "collapsed": false
   },
   "outputs": [],
   "source": [
    "n = 200\n",
    "alphas = np.linspace(0., 1., num=n)\n",
    "betas = np.linspace(-2.0, 1.0, num=2*n)\n",
    "cfls = np.zeros((n,2*n))\n",
    "for i in range(n):\n",
    "    for j in range(2*n):\n",
    "        cfls[i,j] = mix_bdfex_23(alphas[i], betas[j])\n",
    "plt.imshow(cfls.transpose(), origin='lower')\n",
    "plt.colorbar()\n",
    "foo = np.unravel_index(np.argmax(cfls), cfls.shape)"
   ]
  },
  {
   "cell_type": "markdown",
   "metadata": {},
   "source": [
    "## Mixing BDF/EX-N and BDF/EX-N+1"
   ]
  },
  {
   "cell_type": "markdown",
   "metadata": {},
   "source": [
    "The same procedure can be used to mix BDF/EX3 and BDF/EX4."
   ]
  },
  {
   "cell_type": "code",
   "execution_count": null,
   "metadata": {
    "collapsed": false
   },
   "outputs": [],
   "source": [
    "def mix_bdfex_34(alpha, beta, plot=False):\n",
    "    res = stab_region((1.-beta)*bdf3+beta*bdf4,\n",
    "                      (1.-alpha)*ex3+alpha*ex4,\n",
    "                     plot=plot);\n",
    "    if plot:\n",
    "        print(\"The eigenvalue for BDF/EX-3,4({},{}) is {}\".format(alpha, beta, res))\n",
    "    return res"
   ]
  },
  {
   "cell_type": "code",
   "execution_count": null,
   "metadata": {
    "collapsed": false
   },
   "outputs": [],
   "source": [
    "interact(mix_bdfex_34, alpha=.5, beta=.5, plot=True);"
   ]
  },
  {
   "cell_type": "markdown",
   "metadata": {},
   "source": [
    "We can maximize the stability constraint.  Again, we must impose $\\alpha \\ge 0$."
   ]
  },
  {
   "cell_type": "code",
   "execution_count": null,
   "metadata": {
    "collapsed": false
   },
   "outputs": [],
   "source": [
    "def wrap(x):\n",
    "    return -mix_bdfex_34(x[0], x[1])\n",
    "def accept(f_new, x_new, f_old, x_old):\n",
    "    if x_new[0] < 0:\n",
    "        return False\n",
    "#    if x_new[1] < 0:\n",
    "#        return False\n",
    "    return True\n",
    "res = basinhopping(wrap, \n",
    "                   [0.5, 0.5], \n",
    "                   accept_test=accept,\n",
    "                   minimizer_kwargs={'method': 'SLSQP', 'bounds': [(0., None), (None, None)]}, \n",
    "                   niter=1000, \n",
    "                   niter_success=500, \n",
    "                   T=0.01)\n",
    "mix_bdfex_34(res.x[0], res.x[1], plot=True);"
   ]
  },
  {
   "cell_type": "markdown",
   "metadata": {},
   "source": [
    "And plot the stability constraint in the neighborhood of the minimum:"
   ]
  },
  {
   "cell_type": "code",
   "execution_count": null,
   "metadata": {
    "collapsed": false
   },
   "outputs": [],
   "source": [
    "n = 200\n",
    "alphas = np.linspace(0., 1., num=n)\n",
    "betas = np.linspace(-2.0, 1.0, num=2*n)\n",
    "cfls = np.zeros((n,2*n))\n",
    "for i in range(n):\n",
    "    for j in range(2*n):\n",
    "        cfls[i,j] = mix_bdfex_34(alphas[i], betas[j])\n",
    "plt.imshow(cfls.transpose(), origin='lower')\n",
    "plt.colorbar()\n",
    "foo = np.unravel_index(np.argmax(cfls), cfls.shape)"
   ]
  },
  {
   "cell_type": "code",
   "execution_count": null,
   "metadata": {
    "collapsed": false
   },
   "outputs": [],
   "source": [
    "mix_bdfex_34(0,-1.4682977182989303, plot=True)"
   ]
  },
  {
   "cell_type": "code",
   "execution_count": null,
   "metadata": {
    "collapsed": true
   },
   "outputs": [],
   "source": [
    "def mix_bdfex_24(alpha, beta, plot=False):\n",
    "    res = stab_region((1.-beta)*bdf2+beta*bdf4,\n",
    "                      (1.-alpha)*ex2+alpha*ex4,\n",
    "                     plot=plot);\n",
    "    if plot:\n",
    "        print(\"The eigenvalue for BDF/EX-2,4({},{}) is {}\".format(alpha, beta, res))\n",
    "    return res"
   ]
  },
  {
   "cell_type": "code",
   "execution_count": null,
   "metadata": {
    "collapsed": false,
    "scrolled": true
   },
   "outputs": [],
   "source": [
    "def wrap(x):\n",
    "    return -mix_bdfex_24(x[0], x[1])\n",
    "def accept(f_new, x_new, f_old, x_old):\n",
    "    if x_new[0] < 0:\n",
    "        return False\n",
    "#    if x_new[1] < 0:\n",
    "#        return False\n",
    "#    if x_new[0] + x_new[1] > 1.0:\n",
    "#        return False\n",
    "#    if x_new[2] < 0:\n",
    "#        return False\n",
    "#    if x_new[3] < 0:\n",
    "#        return False\n",
    "#    if x_new[2] + x_new[3] > 1.0:\n",
    "#        return False\n",
    "#    if x_new[1] < 0:\n",
    "#        return False\n",
    "    return True\n",
    "\n",
    "res = basinhopping(wrap, \n",
    "                   [1.0, 1.0], \n",
    "                   accept_test=accept,\n",
    "                   minimizer_kwargs={'method': 'SLSQP', 'bounds': [(0, None), (None, None)]}, \n",
    "                   niter=1000, \n",
    "                   niter_success=500, \n",
    "                   T=0.01)\n",
    "mix_bdfex_24(res.x[0], res.x[1], plot=True);"
   ]
  },
  {
   "cell_type": "code",
   "execution_count": null,
   "metadata": {
    "collapsed": true
   },
   "outputs": [],
   "source": [
    "def mix_bdfex_234(alpha1, alpha2, beta1, beta2, plot=False):\n",
    "    res = stab_region((1.-beta1 - beta2)*bdf2+beta1*bdf3 + beta2*bdf4,\n",
    "                      (1.-alpha1 - alpha2)*ex2+alpha1*ex3 + alpha2*ex4,\n",
    "                     plot=plot);\n",
    "    if plot:\n",
    "        print(\"The eigenvalue for BDF/EX-2,3,4({}-{},{}-{}) is {}\".format(alpha1, alpha2, beta1, beta2, res))\n",
    "    return res"
   ]
  },
  {
   "cell_type": "code",
   "execution_count": null,
   "metadata": {
    "collapsed": false
   },
   "outputs": [],
   "source": [
    "interact(mix_bdfex_234, alpha1=.667, alpha2=0., beta1=.48, beta2 = 0., plot=True);"
   ]
  },
  {
   "cell_type": "code",
   "execution_count": null,
   "metadata": {
    "collapsed": false
   },
   "outputs": [],
   "source": [
    "plt.figure(figsize=(15,15))\n",
    "mix_bdfex_234(.633, .4, -.48, 0.0, plot=True)"
   ]
  },
  {
   "cell_type": "code",
   "execution_count": null,
   "metadata": {
    "collapsed": false
   },
   "outputs": [],
   "source": [
    "mix_bdfex_234(0,-0.250000001,-2.5,-3, plot=True)"
   ]
  },
  {
   "cell_type": "code",
   "execution_count": null,
   "metadata": {
    "collapsed": false
   },
   "outputs": [],
   "source": [
    "def wrap(x):\n",
    "    return -mix_bdfex_234(x[0], x[1], x[2], x[3])\n",
    "def accept(f_new, x_new, f_old, x_old):\n",
    "    if x_new[0] < 0:\n",
    "        return False\n",
    "#    if x_new[1] < 0:\n",
    "#        return False\n",
    "#    if x_new[0] + x_new[1] > 1.0:\n",
    "#        return False\n",
    "#    if x_new[2] < 0:\n",
    "#        return False\n",
    "#    if x_new[3] < 0:\n",
    "#        return False\n",
    "#    if x_new[2] + x_new[3] > 1.0:\n",
    "#        return False\n",
    "#    if x_new[1] < 0:\n",
    "#        return False\n",
    "    return True\n",
    "\n",
    "res = basinhopping(wrap, \n",
    "                   [1.0, 0.0, 1.0, 0.0], \n",
    "                   accept_test=accept,\n",
    "                   minimizer_kwargs={'method': 'SLSQP', 'bounds': [(-1, 1), (-1, 1), (-1, 1), (-1, 1)]}, \n",
    "                   niter=100, \n",
    "                   niter_success=50, \n",
    "                   T=0.01)\n",
    "mix_bdfex_234(res.x[0], res.x[1], res.x[2], res.x[3], plot=True);"
   ]
  },
  {
   "cell_type": "code",
   "execution_count": null,
   "metadata": {
    "collapsed": true
   },
   "outputs": [],
   "source": []
  }
 ],
 "metadata": {
  "kernelspec": {
   "display_name": "Python 3",
   "language": "python",
   "name": "python3"
  },
  "language_info": {
   "codemirror_mode": {
    "name": "ipython",
    "version": 3
   },
   "file_extension": ".py",
   "mimetype": "text/x-python",
   "name": "python",
   "nbconvert_exporter": "python",
   "pygments_lexer": "ipython3",
   "version": "3.4.4"
  }
 },
 "nbformat": 4,
 "nbformat_minor": 0
}
